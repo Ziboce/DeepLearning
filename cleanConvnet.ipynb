{
 "cells": [
  {
   "cell_type": "markdown",
   "metadata": {},
   "source": [
    "# Library import"
   ]
  },
  {
   "cell_type": "code",
   "execution_count": 2,
   "metadata": {},
   "outputs": [],
   "source": [
    "import os\n",
    "from torchvision import transforms\n",
    "import torch\n",
    "import torch.nn as nn\n",
    "import torch.nn.functional as F\n",
    "import numpy as np\n",
    "import wandb\n",
    "\n",
    "from sklearn.metrics import accuracy_score, recall_score, precision_score, f1_score\n",
    "\n",
    "import warnings\n",
    "warnings.filterwarnings('ignore')"
   ]
  },
  {
   "cell_type": "code",
   "execution_count": 3,
   "metadata": {},
   "outputs": [
    {
     "name": "stdout",
     "output_type": "stream",
     "text": [
      "device = cpu\n"
     ]
    }
   ],
   "source": [
    "device = \"cuda\" if torch.cuda.is_available() else \"cpu\"\n",
    "print(f\"device = {device}\")\n",
    "torch.cuda.empty_cache()"
   ]
  },
  {
   "cell_type": "markdown",
   "metadata": {},
   "source": [
    "# Hyperparameters"
   ]
  },
  {
   "cell_type": "code",
   "execution_count": 5,
   "metadata": {},
   "outputs": [],
   "source": [
    "model_name = \"Clean-5-Convnet\"\n",
    "eval_every = 1\n",
    "save_every = 5\n",
    "\n",
    "# est-ce qu'on pourrait pas faire des batch size différent pour le train et le test/validation ?\n",
    "# as-tu d'autres idée d'hyperparametre ?\n",
    "batch_size = 128\n",
    "learning_rate = 0.001\n",
    "nb_epochs = 50\n",
    "proba_dropout = 0.2\n",
    "conv_kernel_size = 3\n",
    "pooling_kernel_size = 2"
   ]
  },
  {
   "cell_type": "code",
   "execution_count": 14,
   "metadata": {},
   "outputs": [
    {
     "name": "stderr",
     "output_type": "stream",
     "text": [
      "Failed to detect the name of this notebook, you can set it manually with the WANDB_NOTEBOOK_NAME environment variable to enable code saving.\n",
      "\u001b[34m\u001b[1mwandb\u001b[0m: Logging into wandb.ai. (Learn how to deploy a W&B server locally: https://wandb.me/wandb-server)\n",
      "\u001b[34m\u001b[1mwandb\u001b[0m: You can find your API key in your browser here: https://wandb.ai/authorize\n",
      "\u001b[34m\u001b[1mwandb\u001b[0m: Paste an API key from your profile and hit enter, or press ctrl+c to quit:\u001b[34m\u001b[1mwandb\u001b[0m: Appending key for api.wandb.ai to your netrc file: /home/florenthervers/.netrc\n"
     ]
    },
    {
     "data": {
      "text/html": [
       "Tracking run with wandb version 0.16.6"
      ],
      "text/plain": [
       "<IPython.core.display.HTML object>"
      ]
     },
     "metadata": {},
     "output_type": "display_data"
    },
    {
     "data": {
      "text/html": [
       "Run data is saved locally in <code>/mnt/c/Users/Session/Documents/Universite/Master 1/Deep learning/Projet/code/wandb/run-20240413_170846-4mqamr8f</code>"
      ],
      "text/plain": [
       "<IPython.core.display.HTML object>"
      ]
     },
     "metadata": {},
     "output_type": "display_data"
    },
    {
     "data": {
      "text/html": [
       "Syncing run <strong><a href='https://wandb.ai/data-science-project/deep_learning_project/runs/4mqamr8f' target=\"_blank\">Clean-5-Convnet</a></strong> to <a href='https://wandb.ai/data-science-project/deep_learning_project' target=\"_blank\">Weights & Biases</a> (<a href='https://wandb.me/run' target=\"_blank\">docs</a>)<br/>"
      ],
      "text/plain": [
       "<IPython.core.display.HTML object>"
      ]
     },
     "metadata": {},
     "output_type": "display_data"
    },
    {
     "data": {
      "text/html": [
       " View project at <a href='https://wandb.ai/data-science-project/deep_learning_project' target=\"_blank\">https://wandb.ai/data-science-project/deep_learning_project</a>"
      ],
      "text/plain": [
       "<IPython.core.display.HTML object>"
      ]
     },
     "metadata": {},
     "output_type": "display_data"
    },
    {
     "data": {
      "text/html": [
       " View run at <a href='https://wandb.ai/data-science-project/deep_learning_project/runs/4mqamr8f' target=\"_blank\">https://wandb.ai/data-science-project/deep_learning_project/runs/4mqamr8f</a>"
      ],
      "text/plain": [
       "<IPython.core.display.HTML object>"
      ]
     },
     "metadata": {},
     "output_type": "display_data"
    },
    {
     "data": {
      "text/html": [
       "<button onClick=\"this.nextSibling.style.display='block';this.style.display='none';\">Display W&B run</button><iframe src='https://wandb.ai/data-science-project/deep_learning_project/runs/4mqamr8f?jupyter=true' style='border:none;width:100%;height:420px;display:none;'></iframe>"
      ],
      "text/plain": [
       "<wandb.sdk.wandb_run.Run at 0x7f11ee8e9b20>"
      ]
     },
     "execution_count": 14,
     "metadata": {},
     "output_type": "execute_result"
    }
   ],
   "source": [
    "# if ask for a key, COPY/PASTE bc0dc5f66039bf86ffba73188a299faed907973c\n",
    "wandb.init(\n",
    "    project=\"deep_learning_project\", \n",
    "    config = {\n",
    "        \"model\": model_name,\n",
    "        \"batch_size\": batch_size,\n",
    "        \"learning_rate\": learning_rate,\n",
    "        \"nb_epochs\": nb_epochs,\n",
    "        \"eval_every\": eval_every,\n",
    "        \"save_every\": save_every,\n",
    "        \"conv_kernel_size\": conv_kernel_size,\n",
    "        \"pooling_kernel_size\": pooling_kernel_size,\n",
    "        \"proba_dropout\": proba_dropout,\n",
    "        \"kernel_incr\": \"double\",\n",
    "        \"Padding\": \"True\",\n",
    "        \"BatchNorm\": \"True\",\n",
    "    },\n",
    "    name=model_name,\n",
    "    tags = [\"test\"],\n",
    ")"
   ]
  },
  {
   "cell_type": "markdown",
   "metadata": {},
   "source": [
    "# Dataset import"
   ]
  },
  {
   "cell_type": "code",
   "execution_count": 6,
   "metadata": {},
   "outputs": [],
   "source": [
    "import datasetCreation\n",
    "\n",
    "root_dir = \"/scratch/users/jwalraff/DeepWalraff/augmented_dataset\"\n",
    "#root_dir = \"../augmented_dataset\"\n",
    "test_dir = os.path.join(root_dir, \"test\")\n",
    "categories = os.listdir(test_dir)\n",
    "\n",
    "transform = transforms.Compose([\n",
    "    transforms.ToTensor()\n",
    "])\n",
    "\n",
    "train_loader = datasetCreation.getDataLoader(root_dir, batch_size, num_workers= 4, mode='train', transform=transform)\n",
    "validation_loader = datasetCreation.getDataLoader(root_dir, batch_size, num_workers= 4, mode='validation', transform=transform)\n",
    "test_loader = datasetCreation.getDataLoader(root_dir, batch_size, mode='test', transform=transform)"
   ]
  },
  {
   "cell_type": "markdown",
   "metadata": {},
   "source": [
    "# Class Weights"
   ]
  },
  {
   "cell_type": "code",
   "execution_count": 7,
   "metadata": {},
   "outputs": [
    {
     "data": {
      "text/plain": [
       "tensor([1.0644, 9.1866, 1.0056, 0.5781, 0.8338, 0.8243, 1.2271])"
      ]
     },
     "execution_count": 7,
     "metadata": {},
     "output_type": "execute_result"
    }
   ],
   "source": [
    "# source of the formula https://www.analyticsvidhya.com/blog/2020/10/improve-class-imbalance-class-weights/\n",
    "weights = []\n",
    "category_count = []\n",
    "n_category = len(categories)\n",
    "\n",
    "for i, cat in enumerate(categories):\n",
    "    tmp = os.path.join(test_dir, cat)\n",
    "    category_count.append(len(os.listdir(tmp)))\n",
    "\n",
    "n_sample = sum(category_count)    \n",
    "    \n",
    "for i, n_sample_i in enumerate(category_count):\n",
    "    weights.append(n_sample/(n_category*n_sample_i))\n",
    "\n",
    "weights = torch.tensor(weights, dtype=torch.float).to(device)\n",
    "weights"
   ]
  },
  {
   "cell_type": "markdown",
   "metadata": {},
   "source": [
    "# Model definition"
   ]
  },
  {
   "cell_type": "code",
   "execution_count": 12,
   "metadata": {},
   "outputs": [],
   "source": [
    "class ConvNet5Layers(nn.Module):\n",
    "    def __init__(self, kernel_size, proba_dropout, pooling_kernel_size):\n",
    "        # basic architecture from slide 35/59 lecture 6 of deep learning course\n",
    "        # INPUT → [[CONV → ReLU]*N → POOL?]*M → [FC → ReLU]*K → FC\n",
    "        super(ConvNet5Layers, self).__init__()\n",
    "        self.conv1 = nn.Conv2d(in_channels=1, out_channels=32, kernel_size=kernel_size, padding=1)\n",
    "        self.bn1 = nn.BatchNorm2d(32)\n",
    "        self.pool1 = nn.MaxPool2d(kernel_size=pooling_kernel_size)\n",
    "        \n",
    "        self.conv2 = nn.Conv2d(in_channels=32, out_channels=64, kernel_size=kernel_size, padding=1)\n",
    "        self.bn2 = nn.BatchNorm2d(64)\n",
    "        self.pool2 = nn.MaxPool2d(kernel_size=pooling_kernel_size)\n",
    "        \n",
    "        self.conv3 = nn.Conv2d(in_channels=64, out_channels=128, kernel_size=kernel_size, padding=1)\n",
    "        self.bn3 = nn.BatchNorm2d(128)\n",
    "        self.pool3 = nn.MaxPool2d(kernel_size=pooling_kernel_size)\n",
    "        \n",
    "        self.conv4 = nn.Conv2d(in_channels=128, out_channels=256, kernel_size=kernel_size, padding=1)\n",
    "        self.bn4 = nn.BatchNorm2d(256)\n",
    "        self.pool4 = nn.MaxPool2d(kernel_size=pooling_kernel_size)\n",
    "        \n",
    "        self.conv5 = nn.Conv2d(in_channels=256, out_channels=512, kernel_size=kernel_size, padding=1)\n",
    "        self.bn5 = nn.BatchNorm2d(512)\n",
    "        self.pool5 = nn.MaxPool2d(kernel_size= pooling_kernel_size)\n",
    "        \n",
    "        self.fc1 = nn.Linear(3584, 512)\n",
    "        self.bn6 = nn.BatchNorm1d(512)\n",
    "        self.dropout6 = nn.Dropout(proba_dropout)\n",
    "        \n",
    "        self.fc2 = nn.Linear(512, 512)\n",
    "        self.bn7 = nn.BatchNorm1d(512)\n",
    "        self.dropout7 = nn.Dropout(proba_dropout)\n",
    "        \n",
    "        self.fc3 = nn.Linear(512, 7)  # 7 classes en sortie\n",
    "        \n",
    "    def forward(self, x):\n",
    "        x = self.bn1(F.relu(self.conv1(x)))\n",
    "        x = self.pool1(x)\n",
    "        \n",
    "        x = self.bn2(F.relu(self.conv2(x)))\n",
    "        x = self.pool2(x)\n",
    "        \n",
    "        x = self.bn3(F.relu(self.conv3(x)))\n",
    "        x = self.pool3(x)\n",
    "        \n",
    "        x = self.bn4(F.relu(self.conv4(x)))\n",
    "        x = self.pool4(x)\n",
    "        \n",
    "        x = self.bn5(F.relu(self.conv5(x)))\n",
    "        x = self.pool5(x)\n",
    "        \n",
    "        x = torch.flatten(x, 1)\n",
    "        \n",
    "        x = self.bn6(F.relu(self.fc1(x)))\n",
    "        x = self.dropout6(x)\n",
    "        \n",
    "        x = self.bn7(F.relu(self.fc2(x)))\n",
    "        x = self.dropout7(x)\n",
    "        \n",
    "        x = self.fc3(x)\n",
    "        return x"
   ]
  },
  {
   "cell_type": "code",
   "execution_count": 13,
   "metadata": {},
   "outputs": [
    {
     "name": "stdout",
     "output_type": "stream",
     "text": [
      "Model architecture: \n",
      "ConvNet5Layers(\n",
      "  (conv1): Conv2d(1, 32, kernel_size=(3, 3), stride=(1, 1), padding=(1, 1))\n",
      "  (bn1): BatchNorm2d(32, eps=1e-05, momentum=0.1, affine=True, track_running_stats=True)\n",
      "  (pool1): MaxPool2d(kernel_size=2, stride=2, padding=0, dilation=1, ceil_mode=False)\n",
      "  (conv2): Conv2d(32, 64, kernel_size=(3, 3), stride=(1, 1), padding=(1, 1))\n",
      "  (bn2): BatchNorm2d(64, eps=1e-05, momentum=0.1, affine=True, track_running_stats=True)\n",
      "  (pool2): MaxPool2d(kernel_size=2, stride=2, padding=0, dilation=1, ceil_mode=False)\n",
      "  (conv3): Conv2d(64, 128, kernel_size=(3, 3), stride=(1, 1), padding=(1, 1))\n",
      "  (bn3): BatchNorm2d(128, eps=1e-05, momentum=0.1, affine=True, track_running_stats=True)\n",
      "  (pool3): MaxPool2d(kernel_size=2, stride=2, padding=0, dilation=1, ceil_mode=False)\n",
      "  (conv4): Conv2d(128, 256, kernel_size=(3, 3), stride=(1, 1), padding=(1, 1))\n",
      "  (bn4): BatchNorm2d(256, eps=1e-05, momentum=0.1, affine=True, track_running_stats=True)\n",
      "  (pool4): MaxPool2d(kernel_size=2, stride=2, padding=0, dilation=1, ceil_mode=False)\n",
      "  (conv5): Conv2d(256, 512, kernel_size=(3, 3), stride=(1, 1), padding=(1, 1))\n",
      "  (bn5): BatchNorm2d(512, eps=1e-05, momentum=0.1, affine=True, track_running_stats=True)\n",
      "  (pool5): MaxPool2d(kernel_size=2, stride=2, padding=0, dilation=1, ceil_mode=False)\n",
      "  (fc1): Linear(in_features=3584, out_features=512, bias=True)\n",
      "  (bn6): BatchNorm1d(512, eps=1e-05, momentum=0.1, affine=True, track_running_stats=True)\n",
      "  (dropout6): Dropout(p=0.2, inplace=False)\n",
      "  (fc2): Linear(in_features=512, out_features=512, bias=True)\n",
      "  (bn7): BatchNorm1d(512, eps=1e-05, momentum=0.1, affine=True, track_running_stats=True)\n",
      "  (dropout7): Dropout(p=0.2, inplace=False)\n",
      "  (fc3): Linear(in_features=512, out_features=7, bias=True)\n",
      ")\n",
      "\n",
      "Numbers of parameters: 3673799\n"
     ]
    }
   ],
   "source": [
    "convnet = ConvNet5Layers(conv_kernel_size, proba_dropout, pooling_kernel_size)\n",
    "convnet.train()\n",
    "\n",
    "print(f\"Model architecture: \\n{convnet}\\n\")\n",
    "\n",
    "# from https://saturncloud.io/blog/check-the-total-number-of-parameters-in-a-pytorch-model/#:~:text=To%20check%20the%20number%20of%20parameters%20in%20a%20PyTorch%20model,its%20total%20number%20of%20elements\n",
    "print(f\"Numbers of parameters: {sum(p.numel() for p in convnet.parameters())}\")\n",
    "\n",
    "# Loss and optimizer\n",
    "# Je rajoute les poids ici pour pas faire ton calcul chelou pour la loss, c'est fait pour.\n",
    "criterion = nn.CrossEntropyLoss(weight=weights, reduction='none')\n",
    "optimizer = torch.optim.Adam(convnet.parameters(), lr=learning_rate)"
   ]
  },
  {
   "cell_type": "markdown",
   "metadata": {},
   "source": [
    "# Training loop"
   ]
  },
  {
   "cell_type": "code",
   "execution_count": 16,
   "metadata": {},
   "outputs": [
    {
     "name": "stdout",
     "output_type": "stream",
     "text": [
      "Entering epoch loops.....\n",
      "Entering train loop....\n"
     ]
    },
    {
     "ename": "",
     "evalue": "",
     "output_type": "error",
     "traceback": [
      "\u001b[1;31mThe Kernel crashed while executing code in the current cell or a previous cell. \n",
      "\u001b[1;31mPlease review the code in the cell(s) to identify a possible cause of the failure. \n",
      "\u001b[1;31mClick <a href='https://aka.ms/vscodeJupyterKernelCrash'>here</a> for more info. \n",
      "\u001b[1;31mView Jupyter <a href='command:jupyter.viewOutput'>log</a> for further details."
     ]
    }
   ],
   "source": [
    "def train_cnn(num_epochs):\n",
    "    # transfer cnn to GPU (in-place)\n",
    "    convnet.to(device)\n",
    "\n",
    "    print(\"Entering epoch loops.....\")\n",
    "    for i in range(num_epochs):\n",
    "        print(\"Entering train loop....\")\n",
    "        # variables to keep results across the batches\n",
    "        train_losses = []\n",
    "        validation_losses = []\n",
    "\n",
    "        for x, y in train_loader:\n",
    "            x = x.to(device)\n",
    "            y = y.to(device)\n",
    "            pred = convnet(x)\n",
    "            loss = criterion(pred, y)\n",
    "\n",
    "            train_losses.append(loss.cpu().detach())\n",
    "\n",
    "            optimizer.zero_grad()\n",
    "            loss.backward()\n",
    "            optimizer.step()\n",
    "        \n",
    "        wandb.log({\n",
    "                \"epoch\": i, \n",
    "                \"train_loss\": np.array(train_losses).mean()\n",
    "            })\n",
    "\n",
    "        # à modifier en fonction du nb d'epoch qu'on met\n",
    "        if i % eval_every == 0:\n",
    "            print(\"Entering validation.....\")\n",
    "            with torch.no_grad():\n",
    "                #disable the dropout during the evaluation\n",
    "                convnet.eval()\n",
    "\n",
    "                # variables used for the metrics\n",
    "                validation_true_labels = torch.tensor([])\n",
    "                validation_pred_labels = torch.tensor([])\n",
    "                validation_predicted_probas = torch.tensor([])\n",
    "                class_correctly_predicted = np.zeros(7)\n",
    "                class_totals = np.zeros(7)\n",
    "                \n",
    "                for x, y in validation_loader:\n",
    "                    x = x.to(device)\n",
    "                    y = y.to(device)\n",
    "\n",
    "                    pred = convnet(x)\n",
    "                    # convert the output in probabilities\n",
    "                    probabilities = F.softmax(pred, dim=1)\n",
    "                    \n",
    "                    # get the predictions with their associated probabilities\n",
    "                    batch_predicted_proba, batch_predicted_classes_indexes = torch.max(probabilities, dim=1)\n",
    "                    \n",
    "                    # update the per-classes accuracy stats for the batch\n",
    "                    for batch_index in range(len(batch_predicted_classes_indexes)):\n",
    "                        # fetch the true and predicted classes\n",
    "                        predicted_class = batch_predicted_classes_indexes[batch_index]\n",
    "                        true_class = y[batch_index]\n",
    "                        \n",
    "                        # save the results to compute metrics on the whole validation set\n",
    "                        validation_true_labels = torch.cat((validation_true_labels, true_class.cpu()))\n",
    "                        validation_pred_labels = torch.cat((validation_pred_labels, predicted_class.cpu()))\n",
    "                        \n",
    "                        # update the per-class metrics variables\n",
    "                        class_totals[true_class] += 1\n",
    "                        if predicted_class == true_class:\n",
    "                            class_correctly_predicted[true_class] += 1\n",
    "                    \n",
    "                    # save the predicted probas and losses\n",
    "                    validation_predicted_probas = torch.cat((validation_predicted_probas, batch_predicted_proba.cpu()))\n",
    "                    validation_losses.append(criterion(pred, y).cpu().detach())\n",
    "\n",
    "                # compute and log the global metrics on the whole validation scale\n",
    "                wandb.log({\n",
    "                    \"epoch\": i,\n",
    "                    \"confidence\": np.array(validation_predicted_probas).mean(),\n",
    "                    \"accuracy\":accuracy_score(validation_true_labels, validation_pred_labels),\n",
    "                    \"validation_loss\":  np.array(validation_losses).mean(),\n",
    "                    \"f1\": f1_score(validation_true_labels, validation_pred_labels, average='weighted'),\n",
    "                    \"precision\":precision_score(validation_true_labels, validation_pred_labels, average='weighted'),\n",
    "                    \"recall\": recall_score(validation_true_labels, validation_pred_labels, average='weighted')\n",
    "                })\n",
    "                \n",
    "                # compute and log the per class metrics\n",
    "                class_accuracy = [class_correctly_predicted[c] / class_totals[c] for c in range(7)]\n",
    "                class_accuracy_variance = np.var(np.array(class_accuracy))\n",
    "                \n",
    "                for c in range(7):\n",
    "                    wandb.log({\n",
    "                        \"epoch\": i,\n",
    "                        f\"class_accuracy_{c}\": class_accuracy[c]\n",
    "                    })\n",
    "                    \n",
    "                wandb.log({\n",
    "                    \"epoch\": i,\n",
    "                    \"class_accuracy_variance\": class_accuracy_variance\n",
    "                })\n",
    "                convnet.test()\n",
    "\n",
    "        print(f\"Epoch {i}: finished\")\n",
    "        print(\"************************************\")\n",
    "\n",
    "        if i % save_every == 0:\n",
    "            torch.save(convnet.state_dict(), f\"model_intermediate/convnet_{i}.pt\")\n",
    "\n",
    "    torch.save(convnet.state_dict(), f\"model_finished/convnet__finished_{num_epochs}.pt\")\n",
    "\n",
    "train_cnn(num_epochs=nb_epochs)"
   ]
  }
 ],
 "metadata": {
  "kernelspec": {
   "display_name": "deep-learning",
   "language": "python",
   "name": "python3"
  },
  "language_info": {
   "codemirror_mode": {
    "name": "ipython",
    "version": 3
   },
   "file_extension": ".py",
   "mimetype": "text/x-python",
   "name": "python",
   "nbconvert_exporter": "python",
   "pygments_lexer": "ipython3",
   "version": "3.12.2"
  }
 },
 "nbformat": 4,
 "nbformat_minor": 2
}
