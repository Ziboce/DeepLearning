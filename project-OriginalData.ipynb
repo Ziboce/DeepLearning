{
 "cells": [
  {
   "cell_type": "markdown",
   "metadata": {},
   "source": [
    "# Library import"
   ]
  },
  {
   "cell_type": "code",
   "execution_count": null,
   "metadata": {},
   "outputs": [],
   "source": [
    "import os\n",
    "from PIL import Image\n",
    "from torch.utils.data import Dataset\n",
    "import torch.utils.data as data\n",
    "from torchvision import datasets, transforms, utils\n",
    "import torch\n",
    "from torchvision.utils import save_image\n",
    "import torch.nn as nn\n",
    "import torch.nn.functional as F\n",
    "import matplotlib.pyplot as plt\n",
    "import seaborn as sns\n",
    "import numpy as np\n",
    "import wandb\n",
    "\n",
    "from sklearn.metrics import confusion_matrix, recall_score, precision_score, f1_score\n",
    "\n",
    "import warnings\n",
    "warnings.filterwarnings('ignore')"
   ]
  },
  {
   "cell_type": "code",
   "execution_count": null,
   "metadata": {},
   "outputs": [],
   "source": [
    "device = \"cuda\" if torch.cuda.is_available() else \"cpu\"\n",
    "print(f\"device = {device}\")"
   ]
  },
  {
   "cell_type": "code",
   "execution_count": null,
   "metadata": {},
   "outputs": [],
   "source": [
    "torch.cuda.empty_cache()"
   ]
  },
  {
   "cell_type": "markdown",
   "metadata": {},
   "source": [
    "# Hyperparameters"
   ]
  },
  {
   "cell_type": "code",
   "execution_count": null,
   "metadata": {},
   "outputs": [],
   "source": [
    "model_name = \"Original-Data\"\n",
    "eval_every = 1\n",
    "save_every = 5\n",
    "\n",
    "# est-ce qu'on pourrait pas faire des batch size différent pour le train et le test/validation ?\n",
    "# as-tu d'autres idée d'hyperparametre ?\n",
    "batch_size = 64\n",
    "learning_rate = 0.001\n",
    "nb_epochs = 100\n",
    "\n",
    "\n",
    "# if ask for a key, COPY/PASTE bc0dc5f66039bf86ffba73188a299faed907973c\n",
    "wandb.init(\n",
    "    project=\"deep_learning_project\", \n",
    "    config = {\n",
    "        \"model\": model_name,\n",
    "        \"batch_size\": batch_size,\n",
    "        \"learning_rate\": learning_rate,\n",
    "        \"nb_epochs\": nb_epochs,\n",
    "        \"eval_every\": eval_every,\n",
    "        \"save_every\": save_every,\n",
    "    },\n",
    "    name=model_name,\n",
    ")"
   ]
  },
  {
   "cell_type": "code",
   "execution_count": 5,
   "metadata": {},
   "outputs": [],
   "source": [
    "# wandb.finish()"
   ]
  },
  {
   "cell_type": "markdown",
   "metadata": {},
   "source": [
    "# Dataset import"
   ]
  },
  {
   "cell_type": "code",
   "execution_count": 6,
   "metadata": {},
   "outputs": [
    {
     "name": "stdout",
     "output_type": "stream",
     "text": [
      "/home/jwalraff/DeepWalraff/project\n",
      "/scratch/users/jwalraff/DeepWalraff/emotions_datasets\n",
      "['emotion-detection-fer.zip', 'test', 'train']\n"
     ]
    }
   ],
   "source": [
    "print(os.getcwd())\n",
    "os.chdir(\"/scratch/users/jwalraff/DeepWalraff/emotions_datasets\")\n",
    "print(os.getcwd())\n",
    "print(os.listdir(os.getcwd()))"
   ]
  },
  {
   "cell_type": "code",
   "execution_count": null,
   "metadata": {},
   "outputs": [],
   "source": [
    "import datasetCreation\n",
    "\n",
    "root_dir = \"/scratch/users/jwalraff/DeepWalraff/emotions_datasets\"\n",
    "test_dir = os.path.join(root_dir, \"test\")\n",
    "categories = os.listdir(test_dir)\n",
    "\n",
    "transform = transforms.Compose([\n",
    "    transforms.ToTensor()\n",
    "])\n",
    "\n",
    "train_loader = datasetCreation.getDataLoader(root_dir, batch_size, num_workers= 4, mode='train', transform=transform)\n",
    "test_loader = datasetCreation.getDataLoader(root_dir, batch_size, mode='test', transform=transform)"
   ]
  },
  {
   "cell_type": "code",
   "execution_count": null,
   "metadata": {},
   "outputs": [],
   "source": [
    "# comes from hw2\n",
    "def show_images(img):\n",
    "    plt.imshow(transforms.functional.to_pil_image(img), cmap='gray')\n",
    "    plt.show()\n",
    "\n",
    "# show the images from a batch\n",
    "images, labels = next(iter(train_loader))\n",
    "print(type(images))\n",
    "show_images(utils.make_grid(images))\n",
    "print(*[categories[l] for l in labels])"
   ]
  },
  {
   "cell_type": "markdown",
   "metadata": {},
   "source": [
    "# Class Weights"
   ]
  },
  {
   "cell_type": "code",
   "execution_count": null,
   "metadata": {},
   "outputs": [],
   "source": [
    "# source of the formula https://www.analyticsvidhya.com/blog/2020/10/improve-class-imbalance-class-weights/\n",
    "weights = []\n",
    "category_count = []\n",
    "n_category = len(categories)\n",
    "\n",
    "for i, cat in enumerate(categories):\n",
    "    tmp = os.path.join(test_dir, cat)\n",
    "    category_count.append(len(os.listdir(tmp)))\n",
    "\n",
    "n_sample = sum(category_count)    \n",
    "    \n",
    "for i, n_sample_i in enumerate(category_count):\n",
    "    weights.append(n_sample/(n_category*n_sample_i))\n",
    "\n",
    "weights = torch.tensor(weights, dtype=torch.float).to(device)\n",
    "weights"
   ]
  },
  {
   "cell_type": "markdown",
   "metadata": {},
   "source": [
    "# Model"
   ]
  },
  {
   "cell_type": "code",
   "execution_count": null,
   "metadata": {},
   "outputs": [],
   "source": [
    "class ConvNet(nn.Module):\n",
    "    def __init__(self):\n",
    "        # basic architecture from slide 35/59 lecture 6 of deep learning course\n",
    "        # INPUT → [[CONV → ReLU]*N → POOL?]*M → [FC → ReLU]*K → FC\n",
    "        super(ConvNet, self).__init__()\n",
    "        self.conv1 = nn.Conv2d(1, 32, 3, 1)\n",
    "        self.conv2 = nn.Conv2d(32, 64, 3, 1)\n",
    "        self.fc1 = nn.Linear(64*10*10, 1024)\n",
    "        self.fc2 = nn.Linear(1024, 1024)\n",
    "        self.fc3 = nn.Linear(1024, 7)\n",
    "        \n",
    "    def forward(self, x):\n",
    "        x = F.relu(self.conv1(x))\n",
    "        x = F.max_pool2d(x, 2, 2)\n",
    "        x = F.relu(self.conv2(x))\n",
    "        x = F.max_pool2d(x, 2, 2)\n",
    "        x = x.view(-1, 64*10*10) # pareil ici (pour le 64*73*73)\n",
    "        x = F.relu(self.fc1(x))\n",
    "        x = F.relu(self.fc2(x))\n",
    "        x = self.fc3(x)\n",
    "        return x"
   ]
  },
  {
   "cell_type": "code",
   "execution_count": null,
   "metadata": {},
   "outputs": [],
   "source": [
    "convnet = ConvNet()\n",
    "convnet.train()\n",
    "\n",
    "print(f\"convnet architecture: \\n{convnet}\")\n",
    "\n",
    "# from https://saturncloud.io/blog/check-the-total-number-of-parameters-in-a-pytorch-model/#:~:text=To%20check%20the%20number%20of%20parameters%20in%20a%20PyTorch%20model,its%20total%20number%20of%20elements\n",
    "print(f\"\\n numbers of parameters: {sum(p.numel() for p in convnet.parameters())}\")\n",
    "\n",
    "# Loss and optimizer\n",
    "criterion = nn.CrossEntropyLoss(reduction='none')\n",
    "optimizer = torch.optim.Adam(convnet.parameters(), lr=learning_rate)"
   ]
  },
  {
   "cell_type": "markdown",
   "metadata": {},
   "source": [
    "# Training"
   ]
  },
  {
   "cell_type": "markdown",
   "metadata": {},
   "source": [
    "Faut-il rajouter plus de truc dans wandb.log ?"
   ]
  },
  {
   "cell_type": "code",
   "execution_count": null,
   "metadata": {},
   "outputs": [],
   "source": [
    "def train_cnn(num_epochs):\n",
    "    train_avg_loss = []\n",
    "    validation_avg_loss = []\n",
    "    validation_accuracy = []\n",
    "\n",
    "    # transfer cnn to GPU (in-place)\n",
    "    convnet.to(device)\n",
    "\n",
    "    print(\"Entering epoch loops.....\")\n",
    "    for i in range(num_epochs):\n",
    "        train_losses = []\n",
    "        validation_losses = []\n",
    "        recall_scores = []\n",
    "        precision_scores = []\n",
    "        f1_scores = []\n",
    "        \n",
    "        print(\"Entering train loop....\")\n",
    "        for x, y in train_loader:\n",
    "            x = x.to(device)\n",
    "            y = y.to(device)\n",
    "            pred = convnet(x)\n",
    "            loss = criterion(pred, y)\n",
    "            sample_weight = weights[y.data.view(-1).long()].view_as(y)\n",
    "            loss = (loss * sample_weight).mean()\n",
    "\n",
    "            wandb.log({\n",
    "                \"epoch\": i, \n",
    "                \"train_loss\": loss\n",
    "            })\n",
    "\n",
    "            train_losses.append(loss.cpu().detach())\n",
    "\n",
    "            optimizer.zero_grad()\n",
    "            loss.backward()\n",
    "            optimizer.step()\n",
    "\n",
    "        train_loss_mean = np.array(train_losses).mean()\n",
    "        train_avg_loss.append(train_loss_mean)\n",
    "\n",
    "        # à modifier en fonction du nb d'epoch qu'on met\n",
    "        if i % eval_every == 0:\n",
    "            print(\"Entering validation.....\")\n",
    "            with torch.no_grad():\n",
    "                correct = 0\n",
    "\n",
    "                # list because we wan't evaluate on each batch (some labels might not be in a batch)\n",
    "                true_labels = torch.tensor([])\n",
    "                pred_labels = torch.tensor([])\n",
    "                \n",
    "                for x, y in test_loader:\n",
    "                    x = x.to(device)\n",
    "                    y = y.to(device)\n",
    "\n",
    "                    pred = convnet(x)\n",
    "                    loss = criterion(pred, y)\n",
    "                    \n",
    "                    sample_weight = weights[y.data.view(-1).long()].view_as(y)\n",
    "                    loss = (loss * sample_weight).mean()\n",
    "\n",
    "                    wandb.log({\n",
    "                        \"epoch\": i, \n",
    "                        \"validation_loss\": loss\n",
    "                    })\n",
    "\n",
    "                    validation_losses.append(loss.cpu().detach())\n",
    "\n",
    "                    y_pred = pred.argmax(dim=-1)\n",
    "                    correct = correct + (y_pred == y).sum()\n",
    "\n",
    "                    true_labels = torch.cat((true_labels, y.cpu()))\n",
    "                    pred_labels = torch.cat((pred_labels, y_pred.cpu()))\n",
    "\n",
    "                recall_scores.append(recall_score(true_labels, pred_labels, average='weighted'))\n",
    "                precision_scores.append(precision_score(true_labels, pred_labels, average='weighted'))\n",
    "                f1_scores.append(f1_score(true_labels, pred_labels, average='weighted'))\n",
    "\n",
    "                validation_avg_loss.append(np.array(validation_losses).mean())\n",
    "                accuracy = correct / (len(test_loader)*batch_size)\n",
    "                validation_accuracy.append(accuracy)\n",
    "\n",
    "        print(f\"Epoch {i}: train_loss = {train_loss_mean}\")\n",
    "        print(\"************************************\")\n",
    "        print()\n",
    "\n",
    "        if i % save_every == 0:\n",
    "            torch.save(convnet.state_dict(), f\"model_intermediate/convnet_{i}.pt\")\n",
    "\n",
    "    train_avg_loss = np.array(train_avg_loss)\n",
    "    validation_avg_loss = np.array(validation_avg_loss)\n",
    "\n",
    "    torch.save(convnet.state_dict(), f\"model_finished/convnet__finished_{num_epochs}.pt\")\n",
    "\n",
    "    return train_avg_loss, validation_avg_loss, validation_accuracy, recall_scores, precision_scores, f1_scores"
   ]
  },
  {
   "cell_type": "code",
   "execution_count": null,
   "metadata": {},
   "outputs": [],
   "source": [
    "train_avg_loss, validation_avg_loss, validation_accuracy, recall_scores, precision_scores, f1_scores = train_cnn(nb_epochs)"
   ]
  },
  {
   "cell_type": "code",
   "execution_count": null,
   "metadata": {},
   "outputs": [],
   "source": [
    "plt.figure(figsize = (10, 6))\n",
    "\n",
    "plt.plot(train_avg_loss, label='train loss')\n",
    "plt.plot(validation_avg_loss, label='validation loss')\n",
    "\n",
    "plt.xlabel(\"epoch\")\n",
    "plt.ylabel(\"loss\")\n",
    "plt.legend()\n",
    "plt.show()"
   ]
  },
  {
   "cell_type": "code",
   "execution_count": null,
   "metadata": {},
   "outputs": [],
   "source": [
    "wandb.finish()"
   ]
  },
  {
   "cell_type": "code",
   "execution_count": null,
   "metadata": {},
   "outputs": [],
   "source": []
  }
 ],
 "metadata": {
  "kernelspec": {
   "display_name": "Python [conda env:deep]",
   "language": "python",
   "name": "conda-env-deep-py"
  },
  "language_info": {
   "codemirror_mode": {
    "name": "ipython",
    "version": 3
   },
   "file_extension": ".py",
   "mimetype": "text/x-python",
   "name": "python",
   "nbconvert_exporter": "python",
   "pygments_lexer": "ipython3",
   "version": "3.11.7"
  }
 },
 "nbformat": 4,
 "nbformat_minor": 4
}
